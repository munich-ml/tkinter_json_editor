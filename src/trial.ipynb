{
 "cells": [
  {
   "cell_type": "code",
   "execution_count": 1,
   "metadata": {},
   "outputs": [],
   "source": [
    "from tkinter_json_editor import JSONTreeFrame\n",
    "import tkinter as tk"
   ]
  },
  {
   "cell_type": "code",
   "execution_count": 2,
   "metadata": {},
   "outputs": [
    {
     "data": {
      "text/plain": [
       "{'name': 'Holger',\n",
       " 'data': [42, 7.2, 0.3333333333333333, True, []],\n",
       " 'misc': {'NoneType': None, 'Boolean': False}}"
      ]
     },
     "execution_count": 2,
     "metadata": {},
     "output_type": "execute_result"
    }
   ],
   "source": [
    "obj = {\"name\": \"Holger\", \"data\": [42, 7.2, 1/3, True, []], \"misc\": {\"NoneType\": None, \"Boolean\": False}}\n",
    "obj"
   ]
  },
  {
   "cell_type": "code",
   "execution_count": 3,
   "metadata": {},
   "outputs": [],
   "source": [
    "tf = JSONTreeFrame(tk.Tk())\n",
    "tf.insert_tree_node(\"root node\", value=obj)"
   ]
  },
  {
   "cell_type": "code",
   "execution_count": 30,
   "metadata": {},
   "outputs": [
    {
     "name": "stdout",
     "output_type": "stream",
     "text": [
      " root node  ['dict'] I001\n",
      "    name Holger ['str'] I002\n",
      "    data  ['list'] I003\n",
      "       0 42 ['int'] I004\n",
      "       1 7.2 ['float'] I005\n",
      "       2 0.3333333333333333 ['float'] I006\n",
      "       3 True ['bool'] I007\n",
      "       4  ['list'] I008\n",
      "    misc  ['dict'] I009\n",
      "       NoneType None ['NoneType'] I00A\n",
      "       Boolean False ['bool'] I00B\n"
     ]
    }
   ],
   "source": [
    "def open_node(node, layer=0):\n",
    "    item = tf.tree.item(node)\n",
    "    text = item[\"text\"]\n",
    "    value = item[\"values\"]\n",
    "    if type(value) is list:\n",
    "        value = next(iter(value))\n",
    "    type_tag = item[\"tags\"]\n",
    "    print(layer*\"   \", text, value, type_tag, node)\n",
    "    for child in tf.tree.get_children(node):\n",
    "        open_node(child, layer+1)\n",
    "    \n",
    "open_node(\"I001\")\n"
   ]
  },
  {
   "cell_type": "code",
   "execution_count": 31,
   "metadata": {},
   "outputs": [
    {
     "data": {
      "text/plain": [
       "{'text': 1, 'image': '', 'values': ['7.2'], 'open': 0, 'tags': ['float']}"
      ]
     },
     "execution_count": 31,
     "metadata": {},
     "output_type": "execute_result"
    }
   ],
   "source": [
    "tf.tree.item(\"I005\")"
   ]
  },
  {
   "cell_type": "code",
   "execution_count": 32,
   "metadata": {},
   "outputs": [],
   "source": [
    "def extract_obj_from_tree(node):\n",
    "    if tf.tree.tag_has(\"dict\", node):\n",
    "        obj = {}\n",
    "        for child in tf.tree.get_children(node):\n",
    "            obj[tf.tree.item(child)[\"text\"]] = extract_obj_from_tree(child)\n",
    "        return obj\n",
    "            \n",
    "    if tf.tree.tag_has(\"list\", node):\n",
    "        return [extract_obj_from_tree(child) for child in tf.tree.get_children(node)]\n",
    "    \n",
    "    if tf.tree.tag_has(\"NoneType\", node):\n",
    "        return None\n",
    "    \n",
    "    obj = tf.tree.item(node)['values'][0]\n",
    "    if tf.tree.tag_has(\"bool\", node):\n",
    "        return obj == \"True\"\n",
    "    \n",
    "    if tf.tree.tag_has(\"int\", node):\n",
    "        try:\n",
    "            return int(obj)\n",
    "        except ValueError:\n",
    "            return obj\n",
    "        \n",
    "    if tf.tree.tag_has(\"float\", node):\n",
    "        try:\n",
    "            return float(obj)\n",
    "        except ValueError:\n",
    "            return obj        \n",
    "    \n",
    "    return obj  # that cover 'str' type\n"
   ]
  },
  {
   "cell_type": "code",
   "execution_count": 33,
   "metadata": {},
   "outputs": [
    {
     "data": {
      "text/plain": [
       "{'name': 'Holger',\n",
       " 'data': [42, 7.2, 0.3333333333333333, True, []],\n",
       " 'misc': {'NoneType': None, 'Boolean': False}}"
      ]
     },
     "execution_count": 33,
     "metadata": {},
     "output_type": "execute_result"
    },
    {
     "ename": "",
     "evalue": "",
     "output_type": "error",
     "traceback": [
      "\u001b[1;31mDer Kernel ist beim Ausführen von Code in der aktuellen Zelle oder einer vorherigen Zelle abgestürzt. Bitte überprüfen Sie den Code in der/den Zelle(n), um eine mögliche Fehlerursache zu identifizieren. Klicken Sie <a href='https://aka.ms/vscodeJupyterKernelCrash'>hier</a>, um weitere Informationen zu erhalten. Weitere Details finden Sie in Jupyter <a href='command:jupyter.viewOutput'>log</a>."
     ]
    }
   ],
   "source": [
    "extract_obj_from_tree(\"I001\")"
   ]
  },
  {
   "cell_type": "code",
   "execution_count": null,
   "metadata": {},
   "outputs": [],
   "source": []
  }
 ],
 "metadata": {
  "kernelspec": {
   "display_name": "Python 3.9.7 ('flask_env')",
   "language": "python",
   "name": "python3"
  },
  "language_info": {
   "codemirror_mode": {
    "name": "ipython",
    "version": 3
   },
   "file_extension": ".py",
   "mimetype": "text/x-python",
   "name": "python",
   "nbconvert_exporter": "python",
   "pygments_lexer": "ipython3",
   "version": "3.9.7"
  },
  "orig_nbformat": 4,
  "vscode": {
   "interpreter": {
    "hash": "7df3afec6b93bfc6b4497fa02400d11f1674743b2656ffd458993e7a63d95c87"
   }
  }
 },
 "nbformat": 4,
 "nbformat_minor": 2
}
